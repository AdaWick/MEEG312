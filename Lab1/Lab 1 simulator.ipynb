{
 "cells": [
  {
   "cell_type": "markdown",
   "metadata": {},
   "source": [
    "###### Content under Creative Commons Attribution license CC-BY 4.0, code under BSD 3-Clause License © 2020 Adam Wickenheiser"
   ]
  },
  {
   "cell_type": "markdown",
   "metadata": {},
   "source": [
    "## Lab 1 Simulator\n",
    "\n",
    "This Python code is a simulation of the mass-spring-damper experiment used in Lab 1.  This code will output a text file of data in the same format as output by the data acquisition software used in lab.\n",
    "\n",
    "The following cells only need to be run once to load libraries and define functions.  We define the function `cart_free_response`, to set up the given physical characteristics of the system as well as the equation of motion to govern the system.  This function is called by `solve_ivp` in a later cell, which is similar to MATLAB's `ode23` or `ode45`."
   ]
  },
  {
   "cell_type": "code",
   "execution_count": null,
   "metadata": {},
   "outputs": [],
   "source": [
    "import numpy as np\n",
    "import matplotlib.pyplot as plt\n",
    "from scipy.integrate import solve_ivp\n",
    "import matplotlib.patches as mpatches\n",
    "from matplotlib.transforms import Affine2D\n",
    "from matplotlib.animation import FuncAnimation\n",
    "from IPython.display import HTML"
   ]
  },
  {
   "cell_type": "code",
   "execution_count": null,
   "metadata": {},
   "outputs": [],
   "source": [
    "def cart_free_response(t,z,n_weights,damp_percent):\n",
    "    \n",
    "    #n_weights = 2\n",
    "    #damp_percent = 0.5\n",
    "    m = 0.3 + 0.49*n_weights\n",
    "    b = 4 + 10*damp_percent\n",
    "    k = 660.0\n",
    "    mu = 0.02\n",
    "    g = 9.81\n",
    "    zdot = [z[1], (b*z[1]+k*z[0]+mu*m*g*np.sign(z[1]))/(-m)]\n",
    "    \n",
    "    return zdot"
   ]
  },
  {
   "cell_type": "markdown",
   "metadata": {},
   "source": [
    "In the following cell, set the parameters of the experiment.  These are:\n",
    "\n",
    "1. The initial displacement of the cart in centimeters\n",
    "1. The number of weights attached to the cart (0-3)\n",
    "1. The tightness of the air damper valve screw (0-1)\n",
    "1. Duration of the simulation in seconds\n",
    "\n",
    "Each time you change any of these parameters, you must re-run the cell."
   ]
  },
  {
   "cell_type": "code",
   "execution_count": null,
   "metadata": {},
   "outputs": [],
   "source": [
    "x_init = 0.03        # initial cart displacement [cm]\n",
    "n_weights = 2        # number of weights attached to the cart\n",
    "damp_percent = 0.5   # tightness of the air damper valve screw\n",
    "tf = 3.0             # duration of the simulation [s]"
   ]
  },
  {
   "cell_type": "markdown",
   "metadata": {},
   "source": [
    "Run the following cell to run the simulation, plot the position vs. time graph, and create an animation of the cart's motion.  Note: this may take a few seconds to run; make sure you can observe the animation and plot before proceeding."
   ]
  },
  {
   "cell_type": "code",
   "execution_count": null,
   "metadata": {},
   "outputs": [],
   "source": [
    "t_span = [0.0, tf]\n",
    "dt = 0.009\n",
    "t_eval = np.arange(t_span[0],t_span[1],dt)\n",
    "z0 = [x_init, 0]\n",
    "sol = solve_ivp(cart_free_response,t_span,z0,t_eval=t_eval,args=(n_weights,damp_percent))\n",
    "\n",
    "plt.figure(figsize=(10,5))\n",
    "plt.plot(sol.t,sol.y[0,:])\n",
    "plt.ylabel('Cart position [cm]')\n",
    "plt.xlabel('Time [s]')\n",
    "\n",
    "fig, ax = plt.subplots() # You may need to adjust the figsize to fit your screen\n",
    "\n",
    "# Draw the cart\n",
    "w_cart = 12.7    # cart width [cm]\n",
    "h_cart = 5.4     # cart height [cm]\n",
    "d_wheel = 2.5    # wheel diameter [cm]\n",
    "\n",
    "cart = mpatches.Rectangle([-w_cart/2,d_wheel],w_cart,h_cart,linewidth=1,edgecolor='k',facecolor='b')\n",
    "ax.add_patch(cart)\n",
    "left_wheel = mpatches.Circle((-w_cart/4,d_wheel/2),d_wheel/2,linewidth=1,edgecolor='k',facecolor='w')\n",
    "ax.add_patch(left_wheel)\n",
    "right_wheel = mpatches.Circle((w_cart/4,d_wheel/2),d_wheel/2,linewidth=1,edgecolor='k',facecolor='w')\n",
    "ax.add_patch(right_wheel)\n",
    "motor_input = mpatches.Rectangle([-15.1,d_wheel+h_cart/4],0.1,h_cart/2,linewidth=1,edgecolor='k',facecolor='k')\n",
    "ax.add_patch(motor_input)\n",
    "x_spring = np.linspace(0,1,501)\n",
    "y_spring = np.sin((2*np.pi*10)*x_spring)\n",
    "spring = plt.plot(x_spring,y_spring,color='k',linewidth=1)[0]\n",
    "ax.add_line(spring)\n",
    "plt.xlim((-16,16))\n",
    "plt.ylim((0,12))\n",
    "\n",
    "# Initialize the axes for animation\n",
    "def init():\n",
    "    ax.set_aspect('equal')\n",
    "    return (cart,left_wheel,right_wheel,motor_input,spring)\n",
    "\n",
    "    \n",
    "# Update the position of the cart at time t_eval[i]\n",
    "def update(i):\n",
    "    x_cart = 100*sol.y[0,i]\n",
    "    \n",
    "    cart.set_transform(Affine2D().translate(x_cart,0) + ax.transData)\n",
    "    left_wheel.set_transform(Affine2D().translate(x_cart,0) + ax.transData)\n",
    "    right_wheel.set_transform(Affine2D().translate(x_cart,0) + ax.transData)\n",
    "    spring.set_transform(Affine2D().scale(15-w_cart/2+x_cart,1) + Affine2D().translate(-15,d_wheel+h_cart/2) + ax.transData)\n",
    "    return (cart,left_wheel,right_wheel,motor_input,spring)\n",
    "\n",
    "ani = FuncAnimation(fig, update, frames=range(int(t_eval.size)), init_func=init, interval=dt, blit=True, repeat=False)\n",
    "plt.close()\n",
    "HTML(ani.to_jshtml(1/dt))"
   ]
  },
  {
   "cell_type": "markdown",
   "metadata": {},
   "source": [
    "Run the following cell to save your data in a text file in the current folder.  This file will contain time and position (\"Encoder 1 Pos\") data points."
   ]
  },
  {
   "cell_type": "code",
   "execution_count": null,
   "metadata": {},
   "outputs": [],
   "source": [
    "dataout = np.zeros((t_eval.size,6))\n",
    "dataout[:,0] = range(t_eval.size)\n",
    "dataout[:,1] = sol.t\n",
    "dataout[:,3] = 160410*sol.y[0,:]\n",
    "\n",
    "print('Enter file name for saving data (without extension):')\n",
    "filename = input()+'.txt'\n",
    "np.savetxt(filename,dataout,fmt=['%d','%2.3f','%d','%d','%d','%d'],delimiter='\\t',header=' Sample   Time     Commanded Pos   Encoder 1 Pos   Encoder 2 Pos   Encoder 3 Pos \\n')\n",
    "\n",
    "data2 = np.genfromtxt('testout.txt',comments=';',skip_header=3,skip_footer=1)\n",
    "t = data2[:,1]     # time is column 1\n",
    "x = data2[:,3]     # position is column 3 (recall column numbering starts at 0)\n",
    "plt.plot(t,x);\n",
    "print(t[0])\n",
    "print(x[0])"
   ]
  },
  {
   "cell_type": "markdown",
   "metadata": {},
   "source": [
    "Now, you have a data file that is identical to the in-lab hardware you can use to analyze the system.  You should repeat the simulation for the other trials by updating the parameters in the third cell from the top and running the subsequent cells."
   ]
  }
 ],
 "metadata": {
  "kernelspec": {
   "display_name": "Python 3",
   "language": "python",
   "name": "python3"
  },
  "language_info": {
   "codemirror_mode": {
    "name": "ipython",
    "version": 3
   },
   "file_extension": ".py",
   "mimetype": "text/x-python",
   "name": "python",
   "nbconvert_exporter": "python",
   "pygments_lexer": "ipython3",
   "version": "3.8.3"
  }
 },
 "nbformat": 4,
 "nbformat_minor": 2
}
